{
 "cells": [
  {
   "cell_type": "code",
   "execution_count": 2,
   "metadata": {},
   "outputs": [],
   "source": [
    "# GET LIBRARIES\n",
    "import numpy as np\n",
    "import pandas as pd\n",
    "from pathlib import Path\n",
    "import matplotlib.pyplot as plt\n",
    "import csv\n"
   ]
  },
  {
   "cell_type": "code",
   "execution_count": 5,
   "metadata": {},
   "outputs": [],
   "source": [
    "# DEFINE FUNCTIONS\n",
    "\n",
    "def load_suite2p_outputs(directory_path): # this will load all Suite2p output files from the specified directory\n",
    "    file_dict = {\n",
    "        'roi_fluorescence': '*F.npy',\n",
    "        'neuropil_fluorescence': '*Fneu.npy',\n",
    "        'cell_identifier' : '*iscell.npy',\n",
    "        'intermediate_outputs' : '*ops.npy',\n",
    "        'roi_traces' : '*spks.npy',\n",
    "        'roi_statistics' : '*stat.npy'}\n",
    "    loaded_data_files = {}\n",
    "    pathlist = Path(directory_path)\n",
    "    for key, value in file_dict.items():\n",
    "        suite2p_files = list(pathlist.glob(value))\n",
    "        for file in suite2p_files:\n",
    "            loaded_data_files[key] = np.load(file, allow_pickle = True)\n",
    "    return loaded_data_files\n",
    "\n",
    "def calculate_dff(raw, baseline): # this will calculate the dff values for each roi\n",
    "    dff_list = []\n",
    "    for row in range(len(raw)):\n",
    "        dff = ((raw[row] - baseline[row])/(baseline[row]))\n",
    "        dff_list.append(dff)\n",
    "    return dff_list\n",
    "\n",
    "def calculate_baseline(raw_fluorescence, percentile): # this will calculate the specified percentile along each roi's raw fluorescence\n",
    "    percentile_list = []\n",
    "    for row in raw_fluorescence:\n",
    "        find_percentile = np.percentile(row, percentile, keepdims = True)\n",
    "        percentile_list.append(find_percentile)\n",
    "    return percentile_list\n",
    "\n",
    "def export_dff_to_csv(dff_data, output_path):\n",
    "    # Convert the list of ΔF/F arrays into a DataFrame\n",
    "    dff_df = pd.DataFrame(dff_data)\n",
    "    \n",
    "    # Export to CSV\n",
    "    dff_df.to_csv(output_path, index=False)\n",
    "    print(f\"ΔF/F data successfully exported to {output_path}\")"
   ]
  },
  {
   "cell_type": "code",
   "execution_count": null,
   "metadata": {},
   "outputs": [],
   "source": [
    "# LOAD DATA\n",
    "suite2p_data_output = load_suite2p_outputs(r'C:\\dev\\2p-analysis\\func\\SB05\\tiff\\sb05_high\\suite2p\\plane0')\n",
    "\n",
    "print(suite2p_data_output.keys())"
   ]
  },
  {
   "cell_type": "code",
   "execution_count": null,
   "metadata": {},
   "outputs": [],
   "source": [
    "# FILTER ROIs (CELLS ONLY)\n",
    "\n",
    "# assign bool T/F based on confidence index\n",
    "true_cells_only = suite2p_data_output['cell_identifier'][:,0].astype(bool)\n",
    "print(true_cells_only)\n",
    "\n",
    "# filter ROIs and neuropil based on bool value\n",
    "filtered_roi = np.array(suite2p_data_output['roi_fluorescence'][true_cells_only])\n",
    "filtered_neuropil = np.array(suite2p_data_output['neuropil_fluorescence'][true_cells_only])"
   ]
  },
  {
   "cell_type": "code",
   "execution_count": 12,
   "metadata": {},
   "outputs": [],
   "source": [
    "# NEUROPIL SUBTRACTION\n",
    "\n",
    "neuropil_subtracted_roi = (filtered_roi - (0.7*filtered_neuropil)) #TODO: necessary?"
   ]
  },
  {
   "cell_type": "code",
   "execution_count": null,
   "metadata": {},
   "outputs": [],
   "source": [
    "# PLOT ROIS\n",
    "plt.plot(neuropil_subtracted_roi[5])\n",
    "plt.title('Neuropil Subtracted Fluorescence of ROI')\n",
    "plt.xlabel('frames')\n",
    "plt.ylabel('raw fluorescence')\n",
    "plt.show()"
   ]
  },
  {
   "cell_type": "code",
   "execution_count": null,
   "metadata": {},
   "outputs": [],
   "source": [
    "# CALCULATE BASELINE FLUORESCENCE\n",
    "baseline_fluorescence = np.array(calculate_baseline(filtered_roi, percentile = 10))\n",
    "print(baseline_fluorescence)"
   ]
  },
  {
   "cell_type": "code",
   "execution_count": null,
   "metadata": {},
   "outputs": [],
   "source": [
    "# CALCULATE DF/F\n",
    "roi_dff = calculate_dff(filtered_roi, baseline_fluorescence)\n",
    "print(roi_dff)"
   ]
  },
  {
   "cell_type": "code",
   "execution_count": 44,
   "metadata": {},
   "outputs": [
    {
     "name": "stdout",
     "output_type": "stream",
     "text": [
      "60\n",
      "5919\n",
      "600.0\n"
     ]
    }
   ],
   "source": [
    "# SET SESSION VARIABLES (NUM ROIS, FRAMES, SESS DURATION, FRAME RATE)\n",
    "\n",
    "number_rois = len(filtered_roi)\n",
    "number_frames = len((filtered_roi[:,0:(6000-81)])[0]) #len[0] yields the second dimension of array; 91 is the offset amount of frames\n",
    "neuro_frame_rate = 9.865\n",
    "session_dur = number_frames/neuro_frame_rate\n",
    "\n",
    "print(number_rois)\n",
    "print(number_frames)\n",
    "print(session_dur)"
   ]
  },
  {
   "cell_type": "code",
   "execution_count": 48,
   "metadata": {},
   "outputs": [
    {
     "name": "stdout",
     "output_type": "stream",
     "text": [
      "Index(['trials.thisRepN', 'trials.thisTrialN', 'trials.thisN',\n",
      "       'trials.thisIndex', 'thisRow.t', 'notes', 'nidaqTrigger.started',\n",
      "       'text_waiting_message.started', 'key_resp.started',\n",
      "       'nidaqTrigger.stopped', 'key_resp.keys', 'key_resp.rt',\n",
      "       'key_resp.duration', 'display_gratings.started',\n",
      "       'stim_grayScreen.started', 'stim_grating.started',\n",
      "       'stim_grayScreen.stopped', 'stim_grating.stopped',\n",
      "       'display_gratings.stopped', 'Protocol ID', 'Subject ID', 'Session ID',\n",
      "       'Wait for Trigger', 'date', 'expName', 'psychopyVersion', 'frameRate',\n",
      "       'expStart', 'Unnamed: 28'],\n",
      "      dtype='object')\n"
     ]
    }
   ],
   "source": [
    "# IMPORT PSYCHOPY TIMESTAMPS\n",
    "# Define the path to the CSV file\n",
    "path = r\"C:\\dev\\sipefield-gratings\\PsychoPy\\data\\high\\sub-SB03\\ses-01\\beh\\sub-SB03_ses-01_20240808_152511.csv\"\n",
    "\n",
    "# Load the CSV file into a pandas DataFrame\n",
    "psychopy_trial_timestamps = pd.read_csv(path)\n",
    "\n",
    "# Display the first few rows of the DataFrame\n",
    "#print(psychopy_trial_timestamps.head())\n",
    "\n",
    "# List the columns from the DataFrame\n",
    "print(psychopy_trial_timestamps.columns)\n",
    "\n"
   ]
  },
  {
   "cell_type": "code",
   "execution_count": 52,
   "metadata": {},
   "outputs": [
    {
     "ename": "TypeError",
     "evalue": "object of type 'enumerate' has no len()",
     "output_type": "error",
     "traceback": [
      "\u001b[1;31m---------------------------------------------------------------------------\u001b[0m",
      "\u001b[1;31mTypeError\u001b[0m                                 Traceback (most recent call last)",
      "Cell \u001b[1;32mIn[52], line 6\u001b[0m\n\u001b[0;32m      3\u001b[0m grating_on \u001b[38;5;241m=\u001b[39m psychopy_trial_timestamps[\u001b[38;5;124m'\u001b[39m\u001b[38;5;124mstim_grating.started\u001b[39m\u001b[38;5;124m'\u001b[39m]\n\u001b[0;32m      4\u001b[0m trial_end \u001b[38;5;241m=\u001b[39m psychopy_trial_timestamps[\u001b[38;5;124m'\u001b[39m\u001b[38;5;124mdisplay_gratings.stopped\u001b[39m\u001b[38;5;124m'\u001b[39m]\n\u001b[1;32m----> 6\u001b[0m trial \u001b[38;5;241m=\u001b[39m \u001b[38;5;28;43mlen\u001b[39;49m\u001b[43m(\u001b[49m\u001b[38;5;28;43menumerate\u001b[39;49m\u001b[43m(\u001b[49m\u001b[38;5;28;43mzip\u001b[39;49m\u001b[43m(\u001b[49m\u001b[43mtrial_start\u001b[49m\u001b[43m,\u001b[49m\u001b[43m \u001b[49m\u001b[43mgrating_on\u001b[49m\u001b[43m,\u001b[49m\u001b[43m \u001b[49m\u001b[43mtrial_end\u001b[49m\u001b[43m)\u001b[49m\u001b[43m)\u001b[49m\u001b[43m)\u001b[49m\n\u001b[0;32m      7\u001b[0m \u001b[38;5;28mprint\u001b[39m(trial)\n",
      "\u001b[1;31mTypeError\u001b[0m: object of type 'enumerate' has no len()"
     ]
    }
   ],
   "source": [
    "# EXTRACT TIMESTAMPS FROM PSYCHOPY OUTPUT\n",
    "trial_start = psychopy_trial_timestamps['display_gratings.started']\n",
    "grating_on = psychopy_trial_timestamps['stim_grating.started']\n",
    "trial_end = psychopy_trial_timestamps['display_gratings.stopped']\n",
    "\n",
    "trial = enumerate(zip(trial_start, grating_on, trial_end))\n",
    "print(trial)\n"
   ]
  }
 ],
 "metadata": {
  "kernelspec": {
   "display_name": "img_analysis",
   "language": "python",
   "name": "python3"
  },
  "language_info": {
   "codemirror_mode": {
    "name": "ipython",
    "version": 3
   },
   "file_extension": ".py",
   "mimetype": "text/x-python",
   "name": "python",
   "nbconvert_exporter": "python",
   "pygments_lexer": "ipython3",
   "version": "3.12.9"
  }
 },
 "nbformat": 4,
 "nbformat_minor": 2
}
